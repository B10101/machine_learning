{
 "cells": [
  {
   "cell_type": "code",
   "execution_count": 8,
   "id": "2e674f0d-d679-445d-a23a-be5093f837ea",
   "metadata": {},
   "outputs": [],
   "source": [
    "import sys\n",
    "import scipy\n",
    "import numpy\n",
    "import pandas\n",
    "from pandas.plotting import scatter_matrix\n",
    "import matplotlib.pyplot as plt\n",
    "from sklearn import model_selection\n",
    "from sklearn.metrics import confusion_matrix\n",
    "from sklearn.metrics import classification_report\n",
    "from sklearn.metrics import accuracy_score\n",
    "from sklearn.linear_model import LogisticRegression\n",
    "from sklearn.tree import DecisionTreeClassifier\n",
    "from sklearn.neighbors import KNeighborsClassifier\n",
    "from sklearn.discriminant_analysis import LinearDiscriminantAnalysis\n",
    "from sklearn.naive_bayes import GaussianNB\n",
    "from sklearn.svm import SVC\n"
   ]
  },
  {
   "cell_type": "code",
   "execution_count": 10,
   "id": "212d3c0d-541a-40fc-ac7d-544808762a0f",
   "metadata": {},
   "outputs": [],
   "source": [
    "url = \"https://archive.ics.uci.edu/ml/machine-learning-databases/iris/iris.data\"\n",
    "names = ['sepal-length', 'sepal-width', 'petal-length', 'petal-width', 'class']\n",
    "dataset = pandas.read_csv(url,names=names)"
   ]
  },
  {
   "cell_type": "code",
   "execution_count": 14,
   "id": "9bec7f0d-e767-4fab-bd96-4574cfe54706",
   "metadata": {},
   "outputs": [
    {
     "name": "stdout",
     "output_type": "stream",
     "text": [
      "       sepal-length  sepal-width  petal-length  petal-width\n",
      "count    150.000000   150.000000    150.000000   150.000000\n",
      "mean       5.843333     3.054000      3.758667     1.198667\n",
      "std        0.828066     0.433594      1.764420     0.763161\n",
      "min        4.300000     2.000000      1.000000     0.100000\n",
      "25%        5.100000     2.800000      1.600000     0.300000\n",
      "50%        5.800000     3.000000      4.350000     1.300000\n",
      "75%        6.400000     3.300000      5.100000     1.800000\n",
      "max        7.900000     4.400000      6.900000     2.500000\n"
     ]
    }
   ],
   "source": [
    "print(dataset.describe())"
   ]
  },
  {
   "cell_type": "markdown",
   "id": "934d27ac-da13-4809-9202-8204b5e137b5",
   "metadata": {},
   "source": [
    "Splitting the dataset to obtain a validation dataset"
   ]
  },
  {
   "cell_type": "code",
   "execution_count": 15,
   "id": "dd1297a5-90ec-44f9-8e88-407c6deb518a",
   "metadata": {},
   "outputs": [],
   "source": [
    "array = dataset.values\n",
    "x = array[:,0:4]\n",
    "y = array[:,4]\n",
    "validation_size = 0.20\n",
    "seed = 6\n",
    "X_train,X_test,Y_train,Y_test = model_selection.train_test_split(x,y, test_size = validation_size, random_state=seed)"
   ]
  },
  {
   "cell_type": "code",
   "execution_count": 16,
   "id": "cb92ba9e-7ae1-475c-8fcc-bef89e11e83f",
   "metadata": {},
   "outputs": [],
   "source": [
    "seed = 6\n",
    "scoring = 'accuracy'\n"
   ]
  },
  {
   "cell_type": "markdown",
   "id": "c366ebcc-8905-41ea-bb05-c4f4ebd93b9e",
   "metadata": {},
   "source": [
    "Algorithms"
   ]
  },
  {
   "cell_type": "code",
   "execution_count": 19,
   "id": "88884530-858b-4851-a41f-7628b0d8daca",
   "metadata": {},
   "outputs": [
    {
     "name": "stdout",
     "output_type": "stream",
     "text": [
      "LR: 0.958333, (0.041667)\n",
      "LDA: 0.975000, (0.038188)\n",
      "KNN: 0.958333, (0.041667)\n",
      "CART: 0.933333, (0.050000)\n",
      "NB: 0.966667, (0.040825)\n",
      "SVM: 0.941667, (0.053359)\n"
     ]
    }
   ],
   "source": [
    "models = []\n",
    "models.append(('LR', LogisticRegression()))\n",
    "models.append(('LDA', LinearDiscriminantAnalysis()))\n",
    "models.append(('KNN', KNeighborsClassifier()))\n",
    "models.append(('CART', DecisionTreeClassifier()))\n",
    "models.append(('NB', GaussianNB()))\n",
    "models.append(('SVM', SVC()))\n",
    "\n",
    "results = []\n",
    "names = []\n",
    "\n",
    "for name, model in models:\n",
    "    kfold = model_selection.KFold(n_splits = 10, shuffle = True, random_state = seed)\n",
    "    cv_results = model_selection.cross_val_score(model, X_train, Y_train, cv = kfold, scoring = scoring)\n",
    "    results.append(cv_results)\n",
    "    names.append(name)\n",
    "    msg = \"%s: %f, (%f)\" %(name, cv_results.mean(), cv_results.std())\n",
    "    print(msg)"
   ]
  },
  {
   "cell_type": "code",
   "execution_count": null,
   "id": "a65df51c-04f7-4584-bcec-b0b989556f30",
   "metadata": {},
   "outputs": [],
   "source": []
  }
 ],
 "metadata": {
  "kernelspec": {
   "display_name": "Python 3 (ipykernel)",
   "language": "python",
   "name": "python3"
  },
  "language_info": {
   "codemirror_mode": {
    "name": "ipython",
    "version": 3
   },
   "file_extension": ".py",
   "mimetype": "text/x-python",
   "name": "python",
   "nbconvert_exporter": "python",
   "pygments_lexer": "ipython3",
   "version": "3.12.4"
  }
 },
 "nbformat": 4,
 "nbformat_minor": 5
}
